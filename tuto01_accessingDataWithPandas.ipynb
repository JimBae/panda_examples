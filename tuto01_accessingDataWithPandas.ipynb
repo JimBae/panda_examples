{
 "cells": [
  {
   "cell_type": "markdown",
   "metadata": {},
   "source": [
    "[ref]\n",
    "https://www.kaggle.com/sohier/tutorial-accessing-data-with-pandas/\n",
    "\n",
    "This tutorial will walk you through the essentials of hwo to index & filter data with Pandas. Think of it as a greatly condensed, optionated, version of the official indexing documentation.\n",
    "http://pandas.pydata.org/pandas-docs/stable/indexing.html#\n",
    "\n"
   ]
  },
  {
   "cell_type": "code",
   "execution_count": 1,
   "metadata": {
    "collapsed": true
   },
   "outputs": [],
   "source": [
    "import pandas as pd"
   ]
  },
  {
   "cell_type": "code",
   "execution_count": 2,
   "metadata": {
    "collapsed": true
   },
   "outputs": [],
   "source": [
    "df = pd.read_csv(\"../data/parks.csv\", index_col=['Park Code'])"
   ]
  },
  {
   "cell_type": "code",
   "execution_count": 3,
   "metadata": {},
   "outputs": [
    {
     "data": {
      "text/html": [
       "<div>\n",
       "<style>\n",
       "    .dataframe thead tr:only-child th {\n",
       "        text-align: right;\n",
       "    }\n",
       "\n",
       "    .dataframe thead th {\n",
       "        text-align: left;\n",
       "    }\n",
       "\n",
       "    .dataframe tbody tr th {\n",
       "        vertical-align: top;\n",
       "    }\n",
       "</style>\n",
       "<table border=\"1\" class=\"dataframe\">\n",
       "  <thead>\n",
       "    <tr style=\"text-align: right;\">\n",
       "      <th></th>\n",
       "      <th>Park Name</th>\n",
       "      <th>State</th>\n",
       "      <th>Acres</th>\n",
       "      <th>Latitude</th>\n",
       "      <th>Longitude</th>\n",
       "    </tr>\n",
       "    <tr>\n",
       "      <th>Park Code</th>\n",
       "      <th></th>\n",
       "      <th></th>\n",
       "      <th></th>\n",
       "      <th></th>\n",
       "      <th></th>\n",
       "    </tr>\n",
       "  </thead>\n",
       "  <tbody>\n",
       "    <tr>\n",
       "      <th>ACAD</th>\n",
       "      <td>Acadia National Park</td>\n",
       "      <td>ME</td>\n",
       "      <td>47390</td>\n",
       "      <td>44.35</td>\n",
       "      <td>-68.21</td>\n",
       "    </tr>\n",
       "    <tr>\n",
       "      <th>ARCH</th>\n",
       "      <td>Arches National Park</td>\n",
       "      <td>UT</td>\n",
       "      <td>76519</td>\n",
       "      <td>38.68</td>\n",
       "      <td>-109.57</td>\n",
       "    </tr>\n",
       "    <tr>\n",
       "      <th>BADL</th>\n",
       "      <td>Badlands National Park</td>\n",
       "      <td>SD</td>\n",
       "      <td>242756</td>\n",
       "      <td>43.75</td>\n",
       "      <td>-102.50</td>\n",
       "    </tr>\n",
       "  </tbody>\n",
       "</table>\n",
       "</div>"
      ],
      "text/plain": [
       "                        Park Name State   Acres  Latitude  Longitude\n",
       "Park Code                                                           \n",
       "ACAD         Acadia National Park    ME   47390     44.35     -68.21\n",
       "ARCH         Arches National Park    UT   76519     38.68    -109.57\n",
       "BADL       Badlands National Park    SD  242756     43.75    -102.50"
      ]
     },
     "execution_count": 3,
     "metadata": {},
     "output_type": "execute_result"
    }
   ],
   "source": [
    "df.head(3)"
   ]
  },
  {
   "cell_type": "markdown",
   "metadata": {},
   "source": [
    "## Indexing: single Rows\n",
    "The simplest way to access a row is to pass the row number to the .iloc method. Note that first row is zero, just like list indices"
   ]
  },
  {
   "cell_type": "code",
   "execution_count": 4,
   "metadata": {},
   "outputs": [
    {
     "data": {
      "text/plain": [
       "Park Name    Badlands National Park\n",
       "State                            SD\n",
       "Acres                        242756\n",
       "Latitude                      43.75\n",
       "Longitude                    -102.5\n",
       "Name: BADL, dtype: object"
      ]
     },
     "execution_count": 4,
     "metadata": {},
     "output_type": "execute_result"
    }
   ],
   "source": [
    "df.iloc[2]"
   ]
  },
  {
   "cell_type": "markdown",
   "metadata": {},
   "source": [
    "The other main approach is to pass a value from your dataframe's index to the .loc method:"
   ]
  },
  {
   "cell_type": "code",
   "execution_count": 5,
   "metadata": {},
   "outputs": [
    {
     "data": {
      "text/plain": [
       "Park Name    Badlands National Park\n",
       "State                            SD\n",
       "Acres                        242756\n",
       "Latitude                      43.75\n",
       "Longitude                    -102.5\n",
       "Name: BADL, dtype: object"
      ]
     },
     "execution_count": 5,
     "metadata": {},
     "output_type": "execute_result"
    }
   ],
   "source": [
    "df.loc['BADL']"
   ]
  },
  {
   "cell_type": "markdown",
   "metadata": {},
   "source": [
    "\n",
    "## Indexing: Multiple Rows\n",
    "If we need multiple rows, we can pass in multiple index values. Note that this changes the order of the results."
   ]
  },
  {
   "cell_type": "code",
   "execution_count": 6,
   "metadata": {},
   "outputs": [
    {
     "data": {
      "text/html": [
       "<div>\n",
       "<style>\n",
       "    .dataframe thead tr:only-child th {\n",
       "        text-align: right;\n",
       "    }\n",
       "\n",
       "    .dataframe thead th {\n",
       "        text-align: left;\n",
       "    }\n",
       "\n",
       "    .dataframe tbody tr th {\n",
       "        vertical-align: top;\n",
       "    }\n",
       "</style>\n",
       "<table border=\"1\" class=\"dataframe\">\n",
       "  <thead>\n",
       "    <tr style=\"text-align: right;\">\n",
       "      <th></th>\n",
       "      <th>Park Name</th>\n",
       "      <th>State</th>\n",
       "      <th>Acres</th>\n",
       "      <th>Latitude</th>\n",
       "      <th>Longitude</th>\n",
       "    </tr>\n",
       "    <tr>\n",
       "      <th>Park Code</th>\n",
       "      <th></th>\n",
       "      <th></th>\n",
       "      <th></th>\n",
       "      <th></th>\n",
       "      <th></th>\n",
       "    </tr>\n",
       "  </thead>\n",
       "  <tbody>\n",
       "    <tr>\n",
       "      <th>BADL</th>\n",
       "      <td>Badlands National Park</td>\n",
       "      <td>SD</td>\n",
       "      <td>242756.0</td>\n",
       "      <td>43.75</td>\n",
       "      <td>-102.50</td>\n",
       "    </tr>\n",
       "    <tr>\n",
       "      <th>ARCH</th>\n",
       "      <td>Arches National Park</td>\n",
       "      <td>UT</td>\n",
       "      <td>76519.0</td>\n",
       "      <td>38.68</td>\n",
       "      <td>-109.57</td>\n",
       "    </tr>\n",
       "    <tr>\n",
       "      <th>ACDAD</th>\n",
       "      <td>NaN</td>\n",
       "      <td>NaN</td>\n",
       "      <td>NaN</td>\n",
       "      <td>NaN</td>\n",
       "      <td>NaN</td>\n",
       "    </tr>\n",
       "  </tbody>\n",
       "</table>\n",
       "</div>"
      ],
      "text/plain": [
       "                        Park Name State     Acres  Latitude  Longitude\n",
       "Park Code                                                             \n",
       "BADL       Badlands National Park    SD  242756.0     43.75    -102.50\n",
       "ARCH         Arches National Park    UT   76519.0     38.68    -109.57\n",
       "ACDAD                         NaN   NaN       NaN       NaN        NaN"
      ]
     },
     "execution_count": 6,
     "metadata": {},
     "output_type": "execute_result"
    }
   ],
   "source": [
    "df.loc[['BADL', 'ARCH', 'ACDAD']]"
   ]
  },
  {
   "cell_type": "code",
   "execution_count": 7,
   "metadata": {},
   "outputs": [
    {
     "data": {
      "text/html": [
       "<div>\n",
       "<style>\n",
       "    .dataframe thead tr:only-child th {\n",
       "        text-align: right;\n",
       "    }\n",
       "\n",
       "    .dataframe thead th {\n",
       "        text-align: left;\n",
       "    }\n",
       "\n",
       "    .dataframe tbody tr th {\n",
       "        vertical-align: top;\n",
       "    }\n",
       "</style>\n",
       "<table border=\"1\" class=\"dataframe\">\n",
       "  <thead>\n",
       "    <tr style=\"text-align: right;\">\n",
       "      <th></th>\n",
       "      <th>Park Name</th>\n",
       "      <th>State</th>\n",
       "      <th>Acres</th>\n",
       "      <th>Latitude</th>\n",
       "      <th>Longitude</th>\n",
       "    </tr>\n",
       "    <tr>\n",
       "      <th>Park Code</th>\n",
       "      <th></th>\n",
       "      <th></th>\n",
       "      <th></th>\n",
       "      <th></th>\n",
       "      <th></th>\n",
       "    </tr>\n",
       "  </thead>\n",
       "  <tbody>\n",
       "    <tr>\n",
       "      <th>BADL</th>\n",
       "      <td>Badlands National Park</td>\n",
       "      <td>SD</td>\n",
       "      <td>242756</td>\n",
       "      <td>43.75</td>\n",
       "      <td>-102.50</td>\n",
       "    </tr>\n",
       "    <tr>\n",
       "      <th>ARCH</th>\n",
       "      <td>Arches National Park</td>\n",
       "      <td>UT</td>\n",
       "      <td>76519</td>\n",
       "      <td>38.68</td>\n",
       "      <td>-109.57</td>\n",
       "    </tr>\n",
       "    <tr>\n",
       "      <th>ACAD</th>\n",
       "      <td>Acadia National Park</td>\n",
       "      <td>ME</td>\n",
       "      <td>47390</td>\n",
       "      <td>44.35</td>\n",
       "      <td>-68.21</td>\n",
       "    </tr>\n",
       "  </tbody>\n",
       "</table>\n",
       "</div>"
      ],
      "text/plain": [
       "                        Park Name State   Acres  Latitude  Longitude\n",
       "Park Code                                                           \n",
       "BADL       Badlands National Park    SD  242756     43.75    -102.50\n",
       "ARCH         Arches National Park    UT   76519     38.68    -109.57\n",
       "ACAD         Acadia National Park    ME   47390     44.35     -68.21"
      ]
     },
     "execution_count": 7,
     "metadata": {},
     "output_type": "execute_result"
    }
   ],
   "source": [
    "df.iloc[[2,1,0]]"
   ]
  },
  {
   "cell_type": "markdown",
   "metadata": {},
   "source": [
    "\n",
    "Slicing the dataframe just as if it were a list also works."
   ]
  },
  {
   "cell_type": "code",
   "execution_count": 8,
   "metadata": {},
   "outputs": [
    {
     "data": {
      "text/html": [
       "<div>\n",
       "<style>\n",
       "    .dataframe thead tr:only-child th {\n",
       "        text-align: right;\n",
       "    }\n",
       "\n",
       "    .dataframe thead th {\n",
       "        text-align: left;\n",
       "    }\n",
       "\n",
       "    .dataframe tbody tr th {\n",
       "        vertical-align: top;\n",
       "    }\n",
       "</style>\n",
       "<table border=\"1\" class=\"dataframe\">\n",
       "  <thead>\n",
       "    <tr style=\"text-align: right;\">\n",
       "      <th></th>\n",
       "      <th>Park Name</th>\n",
       "      <th>State</th>\n",
       "      <th>Acres</th>\n",
       "      <th>Latitude</th>\n",
       "      <th>Longitude</th>\n",
       "    </tr>\n",
       "    <tr>\n",
       "      <th>Park Code</th>\n",
       "      <th></th>\n",
       "      <th></th>\n",
       "      <th></th>\n",
       "      <th></th>\n",
       "      <th></th>\n",
       "    </tr>\n",
       "  </thead>\n",
       "  <tbody>\n",
       "    <tr>\n",
       "      <th>ACAD</th>\n",
       "      <td>Acadia National Park</td>\n",
       "      <td>ME</td>\n",
       "      <td>47390</td>\n",
       "      <td>44.35</td>\n",
       "      <td>-68.21</td>\n",
       "    </tr>\n",
       "    <tr>\n",
       "      <th>ARCH</th>\n",
       "      <td>Arches National Park</td>\n",
       "      <td>UT</td>\n",
       "      <td>76519</td>\n",
       "      <td>38.68</td>\n",
       "      <td>-109.57</td>\n",
       "    </tr>\n",
       "    <tr>\n",
       "      <th>BADL</th>\n",
       "      <td>Badlands National Park</td>\n",
       "      <td>SD</td>\n",
       "      <td>242756</td>\n",
       "      <td>43.75</td>\n",
       "      <td>-102.50</td>\n",
       "    </tr>\n",
       "  </tbody>\n",
       "</table>\n",
       "</div>"
      ],
      "text/plain": [
       "                        Park Name State   Acres  Latitude  Longitude\n",
       "Park Code                                                           \n",
       "ACAD         Acadia National Park    ME   47390     44.35     -68.21\n",
       "ARCH         Arches National Park    UT   76519     38.68    -109.57\n",
       "BADL       Badlands National Park    SD  242756     43.75    -102.50"
      ]
     },
     "execution_count": 8,
     "metadata": {},
     "output_type": "execute_result"
    }
   ],
   "source": [
    "df[:3]"
   ]
  },
  {
   "cell_type": "code",
   "execution_count": 10,
   "metadata": {},
   "outputs": [
    {
     "data": {
      "text/html": [
       "<div>\n",
       "<style>\n",
       "    .dataframe thead tr:only-child th {\n",
       "        text-align: right;\n",
       "    }\n",
       "\n",
       "    .dataframe thead th {\n",
       "        text-align: left;\n",
       "    }\n",
       "\n",
       "    .dataframe tbody tr th {\n",
       "        vertical-align: top;\n",
       "    }\n",
       "</style>\n",
       "<table border=\"1\" class=\"dataframe\">\n",
       "  <thead>\n",
       "    <tr style=\"text-align: right;\">\n",
       "      <th></th>\n",
       "      <th>Park Name</th>\n",
       "      <th>State</th>\n",
       "      <th>Acres</th>\n",
       "      <th>Latitude</th>\n",
       "      <th>Longitude</th>\n",
       "    </tr>\n",
       "    <tr>\n",
       "      <th>Park Code</th>\n",
       "      <th></th>\n",
       "      <th></th>\n",
       "      <th></th>\n",
       "      <th></th>\n",
       "      <th></th>\n",
       "    </tr>\n",
       "  </thead>\n",
       "  <tbody>\n",
       "    <tr>\n",
       "      <th>BIBE</th>\n",
       "      <td>Big Bend National Park</td>\n",
       "      <td>TX</td>\n",
       "      <td>801163</td>\n",
       "      <td>29.25</td>\n",
       "      <td>-103.25</td>\n",
       "    </tr>\n",
       "    <tr>\n",
       "      <th>BISC</th>\n",
       "      <td>Biscayne National Park</td>\n",
       "      <td>FL</td>\n",
       "      <td>172924</td>\n",
       "      <td>25.65</td>\n",
       "      <td>-80.08</td>\n",
       "    </tr>\n",
       "    <tr>\n",
       "      <th>BLCA</th>\n",
       "      <td>Black Canyon of the Gunnison National Park</td>\n",
       "      <td>CO</td>\n",
       "      <td>32950</td>\n",
       "      <td>38.57</td>\n",
       "      <td>-107.72</td>\n",
       "    </tr>\n",
       "  </tbody>\n",
       "</table>\n",
       "</div>"
      ],
      "text/plain": [
       "                                            Park Name State   Acres  Latitude  \\\n",
       "Park Code                                                                       \n",
       "BIBE                           Big Bend National Park    TX  801163     29.25   \n",
       "BISC                           Biscayne National Park    FL  172924     25.65   \n",
       "BLCA       Black Canyon of the Gunnison National Park    CO   32950     38.57   \n",
       "\n",
       "           Longitude  \n",
       "Park Code             \n",
       "BIBE         -103.25  \n",
       "BISC          -80.08  \n",
       "BLCA         -107.72  "
      ]
     },
     "execution_count": 10,
     "metadata": {},
     "output_type": "execute_result"
    }
   ],
   "source": [
    "df[3:6]"
   ]
  },
  {
   "cell_type": "markdown",
   "metadata": {},
   "source": [
    "\n",
    "## Indexing: Columns\n",
    "\n",
    "We can access a subset of the columns in a dataframe by placing the list of columns in brackets like so:"
   ]
  },
  {
   "cell_type": "code",
   "execution_count": 11,
   "metadata": {},
   "outputs": [
    {
     "data": {
      "text/plain": [
       "Park Code\n",
       "ACAD    ME\n",
       "ARCH    UT\n",
       "BADL    SD\n",
       "Name: State, dtype: object"
      ]
     },
     "execution_count": 11,
     "metadata": {},
     "output_type": "execute_result"
    }
   ],
   "source": [
    "df['State'].head(3)"
   ]
  },
  {
   "cell_type": "markdown",
   "metadata": {},
   "source": [
    "You can also access a single column as if it were an attribute of the dataframe, but only if the name has no spaces, uses only basic characters, and doesn't share a name with a dataframe method. So, df.State works:"
   ]
  },
  {
   "cell_type": "code",
   "execution_count": 12,
   "metadata": {},
   "outputs": [
    {
     "data": {
      "text/plain": [
       "Park Code\n",
       "ACAD    ME\n",
       "ARCH    UT\n",
       "BADL    SD\n",
       "Name: State, dtype: object"
      ]
     },
     "execution_count": 12,
     "metadata": {},
     "output_type": "execute_result"
    }
   ],
   "source": [
    "df.State.head(3)"
   ]
  },
  {
   "cell_type": "markdown",
   "metadata": {},
   "source": [
    "but df.Park Code will fail as there's a space in the name"
   ]
  },
  {
   "cell_type": "code",
   "execution_count": 15,
   "metadata": {},
   "outputs": [
    {
     "ename": "SyntaxError",
     "evalue": "invalid syntax (<ipython-input-15-a282baf0d56f>, line 1)",
     "output_type": "error",
     "traceback": [
      "\u001b[0;36m  File \u001b[0;32m\"<ipython-input-15-a282baf0d56f>\"\u001b[0;36m, line \u001b[0;32m1\u001b[0m\n\u001b[0;31m    df.Park Code\u001b[0m\n\u001b[0m               ^\u001b[0m\n\u001b[0;31mSyntaxError\u001b[0m\u001b[0;31m:\u001b[0m invalid syntax\n"
     ]
    }
   ],
   "source": [
    "df.Park Code"
   ]
  },
  {
   "cell_type": "markdown",
   "metadata": {},
   "source": [
    "We can only access the 'Park Code' column by passing its name as a string in brackets, like df['Park Code']. I recommend either always using that approach or always converting your column names into a valid format as soon as you read in the data so that you don't have to mix the two methods. It's just a bit tidier.\n",
    "\n",
    "It's a good practice to clean your column names to prevent this sort of error. I'll use a very short cleaning function here since the names don't have any odd characters. By convention, the names should also be converted to lower case. Pandas is case sensitive, so future calls to all of the columns will need to be updated.\n"
   ]
  },
  {
   "cell_type": "code",
   "execution_count": 16,
   "metadata": {},
   "outputs": [
    {
     "name": "stdout",
     "output_type": "stream",
     "text": [
      "Index(['park_name', 'state', 'acres', 'latitude', 'longitude'], dtype='object')\n"
     ]
    }
   ],
   "source": [
    "df.columns = [col.replace(' ', '_').lower() for col in df.columns]\n",
    "print(df.columns)"
   ]
  },
  {
   "cell_type": "markdown",
   "metadata": {},
   "source": [
    "\n",
    "## Indexing: Columns and Rows\n",
    "\n",
    "If we need to subset by both columns and rows, you can stack the commands we've already learned."
   ]
  },
  {
   "cell_type": "code",
   "execution_count": 21,
   "metadata": {},
   "outputs": [
    {
     "data": {
      "text/html": [
       "<div>\n",
       "<style>\n",
       "    .dataframe thead tr:only-child th {\n",
       "        text-align: right;\n",
       "    }\n",
       "\n",
       "    .dataframe thead th {\n",
       "        text-align: left;\n",
       "    }\n",
       "\n",
       "    .dataframe tbody tr th {\n",
       "        vertical-align: top;\n",
       "    }\n",
       "</style>\n",
       "<table border=\"1\" class=\"dataframe\">\n",
       "  <thead>\n",
       "    <tr style=\"text-align: right;\">\n",
       "      <th></th>\n",
       "      <th>state</th>\n",
       "      <th>acres</th>\n",
       "    </tr>\n",
       "    <tr>\n",
       "      <th>Park Code</th>\n",
       "      <th></th>\n",
       "      <th></th>\n",
       "    </tr>\n",
       "  </thead>\n",
       "  <tbody>\n",
       "    <tr>\n",
       "      <th>ACAD</th>\n",
       "      <td>ME</td>\n",
       "      <td>47390</td>\n",
       "    </tr>\n",
       "    <tr>\n",
       "      <th>ARCH</th>\n",
       "      <td>UT</td>\n",
       "      <td>76519</td>\n",
       "    </tr>\n",
       "    <tr>\n",
       "      <th>BADL</th>\n",
       "      <td>SD</td>\n",
       "      <td>242756</td>\n",
       "    </tr>\n",
       "  </tbody>\n",
       "</table>\n",
       "</div>"
      ],
      "text/plain": [
       "          state   acres\n",
       "Park Code              \n",
       "ACAD         ME   47390\n",
       "ARCH         UT   76519\n",
       "BADL         SD  242756"
      ]
     },
     "execution_count": 21,
     "metadata": {},
     "output_type": "execute_result"
    }
   ],
   "source": [
    "df[['state', 'acres']][:3]"
   ]
  },
  {
   "cell_type": "markdown",
   "metadata": {},
   "source": [
    "\n",
    "## Indexing: Scalar Values\n",
    "\n",
    "As you may have noticed, everything we've tried so far returns a small dataframe or series. If you need a single value. simple pass in a single column and index value."
   ]
  },
  {
   "cell_type": "code",
   "execution_count": 22,
   "metadata": {},
   "outputs": [
    {
     "data": {
      "text/plain": [
       "'SD'"
      ]
     },
     "execution_count": 22,
     "metadata": {},
     "output_type": "execute_result"
    }
   ],
   "source": [
    "df.state.iloc[2]"
   ]
  },
  {
   "cell_type": "markdown",
   "metadata": {},
   "source": [
    "Note that you will get a different return type if you pass a single value in a list."
   ]
  },
  {
   "cell_type": "code",
   "execution_count": 23,
   "metadata": {},
   "outputs": [
    {
     "data": {
      "text/plain": [
       "Park Code\n",
       "BADL    SD\n",
       "Name: state, dtype: object"
      ]
     },
     "execution_count": 23,
     "metadata": {},
     "output_type": "execute_result"
    }
   ],
   "source": [
    "df.state.iloc[[2]]"
   ]
  },
  {
   "cell_type": "markdown",
   "metadata": {},
   "source": [
    "\n",
    "## Selecting Subset of the Data\n",
    "\n",
    "The main method ofr subsetting data in Pandas is called boolean indexing. \n",
    "http://pandas.pydata.org/pandas-docs/stable/indexing.html#boolean-indexing\n",
    "First, let's take a look at what pandas does when we ask it to evaluate a boolean:"
   ]
  },
  {
   "cell_type": "code",
   "execution_count": 24,
   "metadata": {},
   "outputs": [
    {
     "data": {
      "text/plain": [
       "Park Code\n",
       "ACAD    False\n",
       "ARCH     True\n",
       "BADL    False\n",
       "Name: state, dtype: bool"
      ]
     },
     "execution_count": 24,
     "metadata": {},
     "output_type": "execute_result"
    }
   ],
   "source": [
    "(df.state == 'UT').head(3)"
   ]
  },
  {
   "cell_type": "markdown",
   "metadata": {},
   "source": [
    "\n",
    "We get a series of the results of the boolean. Passing that series into a dataframe gives us the subset of the dataframe where the boolean evaluates to True."
   ]
  },
  {
   "cell_type": "code",
   "execution_count": 25,
   "metadata": {},
   "outputs": [
    {
     "data": {
      "text/html": [
       "<div>\n",
       "<style>\n",
       "    .dataframe thead tr:only-child th {\n",
       "        text-align: right;\n",
       "    }\n",
       "\n",
       "    .dataframe thead th {\n",
       "        text-align: left;\n",
       "    }\n",
       "\n",
       "    .dataframe tbody tr th {\n",
       "        vertical-align: top;\n",
       "    }\n",
       "</style>\n",
       "<table border=\"1\" class=\"dataframe\">\n",
       "  <thead>\n",
       "    <tr style=\"text-align: right;\">\n",
       "      <th></th>\n",
       "      <th>park_name</th>\n",
       "      <th>state</th>\n",
       "      <th>acres</th>\n",
       "      <th>latitude</th>\n",
       "      <th>longitude</th>\n",
       "    </tr>\n",
       "    <tr>\n",
       "      <th>Park Code</th>\n",
       "      <th></th>\n",
       "      <th></th>\n",
       "      <th></th>\n",
       "      <th></th>\n",
       "      <th></th>\n",
       "    </tr>\n",
       "  </thead>\n",
       "  <tbody>\n",
       "    <tr>\n",
       "      <th>ARCH</th>\n",
       "      <td>Arches National Park</td>\n",
       "      <td>UT</td>\n",
       "      <td>76519</td>\n",
       "      <td>38.68</td>\n",
       "      <td>-109.57</td>\n",
       "    </tr>\n",
       "    <tr>\n",
       "      <th>BRCA</th>\n",
       "      <td>Bryce Canyon National Park</td>\n",
       "      <td>UT</td>\n",
       "      <td>35835</td>\n",
       "      <td>37.57</td>\n",
       "      <td>-112.18</td>\n",
       "    </tr>\n",
       "    <tr>\n",
       "      <th>CANY</th>\n",
       "      <td>Canyonlands National Park</td>\n",
       "      <td>UT</td>\n",
       "      <td>337598</td>\n",
       "      <td>38.20</td>\n",
       "      <td>-109.93</td>\n",
       "    </tr>\n",
       "    <tr>\n",
       "      <th>CARE</th>\n",
       "      <td>Capitol Reef National Park</td>\n",
       "      <td>UT</td>\n",
       "      <td>241904</td>\n",
       "      <td>38.20</td>\n",
       "      <td>-111.17</td>\n",
       "    </tr>\n",
       "    <tr>\n",
       "      <th>ZION</th>\n",
       "      <td>Zion National Park</td>\n",
       "      <td>UT</td>\n",
       "      <td>146598</td>\n",
       "      <td>37.30</td>\n",
       "      <td>-113.05</td>\n",
       "    </tr>\n",
       "  </tbody>\n",
       "</table>\n",
       "</div>"
      ],
      "text/plain": [
       "                            park_name state   acres  latitude  longitude\n",
       "Park Code                                                               \n",
       "ARCH             Arches National Park    UT   76519     38.68    -109.57\n",
       "BRCA       Bryce Canyon National Park    UT   35835     37.57    -112.18\n",
       "CANY        Canyonlands National Park    UT  337598     38.20    -109.93\n",
       "CARE       Capitol Reef National Park    UT  241904     38.20    -111.17\n",
       "ZION               Zion National Park    UT  146598     37.30    -113.05"
      ]
     },
     "execution_count": 25,
     "metadata": {},
     "output_type": "execute_result"
    }
   ],
   "source": [
    "df[df.state == 'UT']"
   ]
  },
  {
   "cell_type": "markdown",
   "metadata": {},
   "source": [
    "\n",
    "Some of the logical operators are different:\n",
    "* ~ replaces not\n",
    "* | repalces or \n",
    "* & replaces and\n",
    "If you have multiple arguments they'll need to be wrapped in parentheses. For example:"
   ]
  },
  {
   "cell_type": "code",
   "execution_count": 26,
   "metadata": {},
   "outputs": [
    {
     "data": {
      "text/html": [
       "<div>\n",
       "<style>\n",
       "    .dataframe thead tr:only-child th {\n",
       "        text-align: right;\n",
       "    }\n",
       "\n",
       "    .dataframe thead th {\n",
       "        text-align: left;\n",
       "    }\n",
       "\n",
       "    .dataframe tbody tr th {\n",
       "        vertical-align: top;\n",
       "    }\n",
       "</style>\n",
       "<table border=\"1\" class=\"dataframe\">\n",
       "  <thead>\n",
       "    <tr style=\"text-align: right;\">\n",
       "      <th></th>\n",
       "      <th>park_name</th>\n",
       "      <th>state</th>\n",
       "      <th>acres</th>\n",
       "      <th>latitude</th>\n",
       "      <th>longitude</th>\n",
       "    </tr>\n",
       "    <tr>\n",
       "      <th>Park Code</th>\n",
       "      <th></th>\n",
       "      <th></th>\n",
       "      <th></th>\n",
       "      <th></th>\n",
       "      <th></th>\n",
       "    </tr>\n",
       "  </thead>\n",
       "  <tbody>\n",
       "    <tr>\n",
       "      <th>DENA</th>\n",
       "      <td>Denali National Park and Preserve</td>\n",
       "      <td>AK</td>\n",
       "      <td>3372402</td>\n",
       "      <td>63.33</td>\n",
       "      <td>-150.50</td>\n",
       "    </tr>\n",
       "    <tr>\n",
       "      <th>DEVA</th>\n",
       "      <td>Death Valley National Park</td>\n",
       "      <td>CA, NV</td>\n",
       "      <td>4740912</td>\n",
       "      <td>36.24</td>\n",
       "      <td>-116.82</td>\n",
       "    </tr>\n",
       "    <tr>\n",
       "      <th>EVER</th>\n",
       "      <td>Everglades National Park</td>\n",
       "      <td>FL</td>\n",
       "      <td>1508538</td>\n",
       "      <td>25.32</td>\n",
       "      <td>-80.93</td>\n",
       "    </tr>\n",
       "  </tbody>\n",
       "</table>\n",
       "</div>"
      ],
      "text/plain": [
       "                                   park_name   state    acres  latitude  \\\n",
       "Park Code                                                                 \n",
       "DENA       Denali National Park and Preserve      AK  3372402     63.33   \n",
       "DEVA              Death Valley National Park  CA, NV  4740912     36.24   \n",
       "EVER                Everglades National Park      FL  1508538     25.32   \n",
       "\n",
       "           longitude  \n",
       "Park Code             \n",
       "DENA         -150.50  \n",
       "DEVA         -116.82  \n",
       "EVER          -80.93  "
      ]
     },
     "execution_count": 26,
     "metadata": {},
     "output_type": "execute_result"
    }
   ],
   "source": [
    "df[(df.latitude > 60) | (df.acres > 10**6)].head(3)"
   ]
  },
  {
   "cell_type": "markdown",
   "metadata": {},
   "source": [
    "\n",
    "You can also use more complicated expressions, including lamdas."
   ]
  },
  {
   "cell_type": "code",
   "execution_count": 27,
   "metadata": {},
   "outputs": [
    {
     "data": {
      "text/html": [
       "<div>\n",
       "<style>\n",
       "    .dataframe thead tr:only-child th {\n",
       "        text-align: right;\n",
       "    }\n",
       "\n",
       "    .dataframe thead th {\n",
       "        text-align: left;\n",
       "    }\n",
       "\n",
       "    .dataframe tbody tr th {\n",
       "        vertical-align: top;\n",
       "    }\n",
       "</style>\n",
       "<table border=\"1\" class=\"dataframe\">\n",
       "  <thead>\n",
       "    <tr style=\"text-align: right;\">\n",
       "      <th></th>\n",
       "      <th>park_name</th>\n",
       "      <th>state</th>\n",
       "      <th>acres</th>\n",
       "      <th>latitude</th>\n",
       "      <th>longitude</th>\n",
       "    </tr>\n",
       "    <tr>\n",
       "      <th>Park Code</th>\n",
       "      <th></th>\n",
       "      <th></th>\n",
       "      <th></th>\n",
       "      <th></th>\n",
       "      <th></th>\n",
       "    </tr>\n",
       "  </thead>\n",
       "  <tbody>\n",
       "    <tr>\n",
       "      <th>ACAD</th>\n",
       "      <td>Acadia National Park</td>\n",
       "      <td>ME</td>\n",
       "      <td>47390</td>\n",
       "      <td>44.35</td>\n",
       "      <td>-68.21</td>\n",
       "    </tr>\n",
       "    <tr>\n",
       "      <th>ARCH</th>\n",
       "      <td>Arches National Park</td>\n",
       "      <td>UT</td>\n",
       "      <td>76519</td>\n",
       "      <td>38.68</td>\n",
       "      <td>-109.57</td>\n",
       "    </tr>\n",
       "    <tr>\n",
       "      <th>BADL</th>\n",
       "      <td>Badlands National Park</td>\n",
       "      <td>SD</td>\n",
       "      <td>242756</td>\n",
       "      <td>43.75</td>\n",
       "      <td>-102.50</td>\n",
       "    </tr>\n",
       "  </tbody>\n",
       "</table>\n",
       "</div>"
      ],
      "text/plain": [
       "                        park_name state   acres  latitude  longitude\n",
       "Park Code                                                           \n",
       "ACAD         Acadia National Park    ME   47390     44.35     -68.21\n",
       "ARCH         Arches National Park    UT   76519     38.68    -109.57\n",
       "BADL       Badlands National Park    SD  242756     43.75    -102.50"
      ]
     },
     "execution_count": 27,
     "metadata": {},
     "output_type": "execute_result"
    }
   ],
   "source": [
    "df[df['park_name'].str.split().apply(lambda x: len(x) == 3)].head(3)"
   ]
  },
  {
   "cell_type": "markdown",
   "metadata": {},
   "source": [
    "\n",
    "## Key Companion Methods: isin and isnull\n",
    "\n",
    "These methods make it much easier and faster to perform some very common tasks. Suppose we wanted to find all parks on the West coast. isin makes that simple:\n"
   ]
  },
  {
   "cell_type": "code",
   "execution_count": 28,
   "metadata": {},
   "outputs": [
    {
     "data": {
      "text/html": [
       "<div>\n",
       "<style>\n",
       "    .dataframe thead tr:only-child th {\n",
       "        text-align: right;\n",
       "    }\n",
       "\n",
       "    .dataframe thead th {\n",
       "        text-align: left;\n",
       "    }\n",
       "\n",
       "    .dataframe tbody tr th {\n",
       "        vertical-align: top;\n",
       "    }\n",
       "</style>\n",
       "<table border=\"1\" class=\"dataframe\">\n",
       "  <thead>\n",
       "    <tr style=\"text-align: right;\">\n",
       "      <th></th>\n",
       "      <th>park_name</th>\n",
       "      <th>state</th>\n",
       "      <th>acres</th>\n",
       "      <th>latitude</th>\n",
       "      <th>longitude</th>\n",
       "    </tr>\n",
       "    <tr>\n",
       "      <th>Park Code</th>\n",
       "      <th></th>\n",
       "      <th></th>\n",
       "      <th></th>\n",
       "      <th></th>\n",
       "      <th></th>\n",
       "    </tr>\n",
       "  </thead>\n",
       "  <tbody>\n",
       "    <tr>\n",
       "      <th>CHIS</th>\n",
       "      <td>Channel Islands National Park</td>\n",
       "      <td>CA</td>\n",
       "      <td>249561</td>\n",
       "      <td>34.01</td>\n",
       "      <td>-119.42</td>\n",
       "    </tr>\n",
       "    <tr>\n",
       "      <th>CRLA</th>\n",
       "      <td>Crater Lake National Park</td>\n",
       "      <td>OR</td>\n",
       "      <td>183224</td>\n",
       "      <td>42.94</td>\n",
       "      <td>-122.10</td>\n",
       "    </tr>\n",
       "    <tr>\n",
       "      <th>JOTR</th>\n",
       "      <td>Joshua Tree National Park</td>\n",
       "      <td>CA</td>\n",
       "      <td>789745</td>\n",
       "      <td>33.79</td>\n",
       "      <td>-115.90</td>\n",
       "    </tr>\n",
       "    <tr>\n",
       "      <th>LAVO</th>\n",
       "      <td>Lassen Volcanic National Park</td>\n",
       "      <td>CA</td>\n",
       "      <td>106372</td>\n",
       "      <td>40.49</td>\n",
       "      <td>-121.51</td>\n",
       "    </tr>\n",
       "    <tr>\n",
       "      <th>MORA</th>\n",
       "      <td>Mount Rainier National Park</td>\n",
       "      <td>WA</td>\n",
       "      <td>235625</td>\n",
       "      <td>46.85</td>\n",
       "      <td>-121.75</td>\n",
       "    </tr>\n",
       "  </tbody>\n",
       "</table>\n",
       "</div>"
      ],
      "text/plain": [
       "                               park_name state   acres  latitude  longitude\n",
       "Park Code                                                                  \n",
       "CHIS       Channel Islands National Park    CA  249561     34.01    -119.42\n",
       "CRLA           Crater Lake National Park    OR  183224     42.94    -122.10\n",
       "JOTR           Joshua Tree National Park    CA  789745     33.79    -115.90\n",
       "LAVO       Lassen Volcanic National Park    CA  106372     40.49    -121.51\n",
       "MORA         Mount Rainier National Park    WA  235625     46.85    -121.75"
      ]
     },
     "execution_count": 28,
     "metadata": {},
     "output_type": "execute_result"
    }
   ],
   "source": [
    "df[df.state.isin(['WA','OR','CA'])].head()"
   ]
  },
  {
   "cell_type": "markdown",
   "metadata": {},
   "source": [
    "\n",
    "## Less Common methods\n",
    "\n",
    "Pandas offers many more indexing methods. You should probably stick to a few of them for the sake of keeping your code readable, but it's worth knowing they exist in case you need to read other people's code or have an unusual use case:\n",
    "\n",
    "There are other ways to slice data with brackets. For the sake of readability, please don't use of them.\n",
    ".at and .iat: like .loc and .iloc but much faster in exchange for only working on a single column and only returning a single result.\n",
    ".eval: fast evaluation of a limited set of simple operators. .query works by calling this.\n",
    ".ix: deprecated method that tried to determine if an index should be evaluated with .loc or .iloc. This led to a lot of subtle bugs! If you see this, you're looking at old code that won't work any more.\n",
    ".get: like .loc, but will return a default value if the key doesn't exist in the index. Only works on a single column/series.\n",
    ".lookup: Not recommended. It's in the documentation, but it's unclear if this is actually still supported.\n",
    ".mask: like boolean indexing, but returns a dataframe/series of the same size as the original and anywhere that the boolean evaluates to True is set to nan.\n",
    ".query: similar to boolean indexing. Faster for large dataframes. Only supports a restricted set of operations; don't use if you need isnull() or other dataframe methods.\n",
    ".take: equivalent to .iloc, but can operate on either rows or columns.\n",
    ".where: like boolean indexing, but returns a dataframe/series of the same size as the original and anywhere that the boolean evaluates to False is set to nan.\n",
    "Multi-indexing: potentially useful for small to mid sized heirarchical datasets. Slow on larger datasets.\n",
    "\n",
    "http://pandas.pydata.org/pandas-docs/stable/advanced.html\n"
   ]
  }
 ],
 "metadata": {
  "kernelspec": {
   "display_name": "Python 3",
   "language": "python",
   "name": "python3"
  },
  "language_info": {
   "codemirror_mode": {
    "name": "ipython",
    "version": 3
   },
   "file_extension": ".py",
   "mimetype": "text/x-python",
   "name": "python",
   "nbconvert_exporter": "python",
   "pygments_lexer": "ipython3",
   "version": "3.6.3"
  }
 },
 "nbformat": 4,
 "nbformat_minor": 2
}
